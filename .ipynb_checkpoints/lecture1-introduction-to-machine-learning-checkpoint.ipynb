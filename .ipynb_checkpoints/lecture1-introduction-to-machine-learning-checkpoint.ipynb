{
 "cells": [
  {
   "cell_type": "markdown",
   "id": "9dd3d9e3-bdad-4816-a5e0-3d6857c430d1",
   "metadata": {},
   "source": [
    "<img src=\"Image/image-machine-learning.png\" alt=\"Resim açıklaması\" style=\"width: 100%; height: auto; object-fit: cover; display: block;\">"
   ]
  },
  {
   "cell_type": "markdown",
   "id": "019a7b99-649e-4fc0-ae53-40b8ade8feeb",
   "metadata": {},
   "source": [
    "<font size=\"4\" style=\"padding: 10px; font-family: Arial, sans-serif; line-height: 1.6; display: block; margin-bottom: 15px; text-align: justify;\">\n",
    "    <h1 style=\"font-family: Arial, sans-serif; margin-bottom: 10px;\">1.1. Makine Öğrenmesi Nedir? </h1>\n",
    "    <strong>Makine öğrenmesi (ML)</strong>, bilgisayarların deneyimlerinden öğrenmesini sağlayan bir <strong>yapay zeka (AI)</strong> dalıdır. 🧠 Bu teknoloji, bilgisayarların insan müdahalesine ihtiyaç duymadan verilerden anlamlı bilgiler çıkarmasına ve bu veriler üzerinden doğru tahminler yapmasına olanak tanır. Başka bir deyişle, makine öğrenmesi, bilgisayarların kendi başlarına öğrenmesini ve bu öğrendikleriyle yeni sonuçlar üretmesini mümkün kılar.\n",
    "    Makine öğrenmesinin temelinde, bilgisayarların veriler üzerinde analiz yaparak, bu veriler arasındaki ilişkileri keşfetmesi yer alır. 📊 Veriler, modele sunulur ve model, zamanla bu verilerdeki örüntüleri öğrenir. Öğrenilen bu örüntüler sayesinde, model gelecekteki verilerle ilgili tahminlerde bulunabilir veya yeni içerikler üretebilir. \n",
    "    <h3 style=\"font-family: Arial, sans-serif; margin-bottom: 10px;\">1.1.1. Makine Öğrenmesinin Gelişimi </h3>\n",
    "    Makine öğrenmesi, son yıllarda büyük bir hızla gelişmiştir. 2016 yılında Google DeepMind tarafından geliştirilen <strong>AlphaGo</strong> isimli yapay zeka, Go oyununda dünya şampiyonunu yenerek önemli bir başarıya imza atmıştır. 🏆 Bu başarı, makine öğrenmesinin yalnızca bilimsel bir alan olmadığını, aynı zamanda günlük yaşamda pratikte de büyük etkiler yaratacak bir teknoloji olduğunu gözler önüne sermiştir.\n",
    "    <h3 style=\"font-family: Arial, sans-serif; margin-bottom: 10px;\">1.1.2. Toplumsal ve Ekonomik Etkiler </h3>\n",
    "    Makine öğrenmesi, bilimsel dünyada olduğu kadar toplumsal ve ekonomik alanda da etkili olmaktadır. <strong>Yapay zeka</strong> ve makine öğrenmesinin <strong>iş gücü</strong>, <strong>eşitsizlik</strong> ve <strong>toplumsal adalet</strong> gibi alanlarda yaratacağı değişimler önemli bir tartışma konusudur. Örneğin, birçok işin otomatikleşmesi, bazı iş alanlarının kaybolmasına veya dönüşmesine yol açabilir. 🔄 Bu değişimler, toplumsal yapıyı ve ekonomik dengeyi değiştirebilir. Eski ABD Başkanı <strong>Barack Obama</strong>, makine öğrenmesinin bu tür toplumsal etkilerini dile getirmiştir.\n",
    "    <h3 style=\"font-family: Arial, sans-serif; margin-bottom: 10px;\">1.1.3. Günlük Hayatta Makine Öğrenmesi </h3>\n",
    "    Makine öğrenmesinin hayatımızdaki etkilerini fark etmek bazen zor olabilir, ancak bu teknoloji her gün etrafımızda yer almaktadır. İşte günlük hayatta karşımıza çıkan bazı örnekler:\n",
    "    <ul>\n",
    "        <li>🎙️ Sesli Asistanlar (Alexa, Siri, Google Assistant)</li>\n",
    "        <li>🎵 Müzik ve Film Öneri Sistemleri (Spotify, Netflix)</li>\n",
    "        <li>🛒 E-ticaret Öneri Sistemleri (Amazon, eBay)</li>\n",
    "        <li>📱 Sosyal Medya Algoritmaları (Facebook, Instagram)</li>\n",
    "    </ul>\n",
    "    Bu sistemler, kullanıcıların davranışlarını analiz eder ve zamanla daha doğru sonuçlar sunar. Makine öğrenmesi, kullanıcı deneyimini daha verimli ve kişiselleştirilmiş hale getirir. \n",
    "</font>\n"
   ]
  },
  {
   "cell_type": "markdown",
   "id": "a54191b6-8989-48e6-99a2-74e50fb67f44",
   "metadata": {},
   "source": [
    "<font size=\"4\" style=\"padding: 10px; font-family: Arial, sans-serif; line-height: 1.6; display: block; margin-bottom: 15px; text-align: justify;\">\n",
    "    <h1 style=\"font-family: Arial, sans-serif; margin-bottom: 10px;\">1.2. Makine Öğrenimi Yöntemleri</h1>\n",
    "    <strong>Makine öğrenimi (ML)</strong>, bilgisayarların deneyim yoluyla öğrenmesini sağlayan bir <strong>yapay zeka (AI)</strong> dalıdır. Verilerden öğrenen sistemler, belirli görevleri insan müdahalesi olmadan yerine getirebilir.<br><br>Makine öğrenimi genellikle üç ana yaklaşıma dayanır:    \n",
    "    <ol>\n",
    "        <li>🧑‍🏫 <strong>Denetimli Öğrenme [Supervised Learning]</strong></li>\n",
    "        <li>📈 <strong>Denetimsiz Öğrenme [Unsupervised Learning]</strong></li>\n",
    "        <li>🎮 <strong>Pekiştirmeli Öğrenme [Reinforcement Learning]</strong></li>\n",
    "    </ol>\n",
    "    <h3 style=\"font-family: Arial, sans-serif; margin-bottom: 10px;\">1.2.1 Denetimli Öğrenme (Supervised Learning)</h3>\n",
    "    <strong>Denetimli öğrenme</strong>, en yaygın kullanılan makine öğrenimi yöntemlerinden biridir. Bu yaklaşımda algoritmalar <strong>etiketli verilerle</strong> eğitilir, yani her veriye karşılık gelen doğru sonuçlar (<strong>etiketler</strong>) önceden belirlenmiştir. Model, bu etiketli veriler üzerinde eğitim alır ve verilen girişlere doğru çıktıyı tahmin etmeyi öğrenir.\n",
    "    <h3 style=\"font-family: Arial, sans-serif; margin-bottom: 10px;\">Çalışma Prensibi:</h3>\n",
    "    <ul>\n",
    "        <li><strong>Eğitim verisi</strong>, giriş (input) ve çıkış (output) verileriyle birlikte sunulur.</li>\n",
    "        <li>Model, bu veriler üzerinden ilişki kurarak doğru tahminler yapmayı öğrenir.</li>\n",
    "        <li>Modelin başarısı, <strong>kayıp fonksiyonu (loss function)</strong> ile ölçülür. Kayıp fonksiyonu, tahmin edilen sonuç ile gerçek sonuç arasındaki farkı ölçer ve bu farkı minimize etmek için model optimize edilir.</li>\n",
    "    </ul>\n",
    "    Aşağıdaki tabloyu regresyon modellerine dair daha fazla örnek için inceleyebilirsiniz:\n",
    "</font>"
   ]
  },
  {
   "cell_type": "markdown",
   "id": "8cb4178b-c60c-4578-95c4-8d169d8baad2",
   "metadata": {},
   "source": [
    "| Senaryo               | Olası Giriş Verileri                                                                                                                                                       | Tahmin Edilen Sonuç        |\n",
    "|:----------------------|:--------------------------------------------------------------------------------------------------------------------------------------------------------------------------|:---------------------------|\n",
    "| Gelecekteki Ev Fiyatı | Ev büyüklüğü, posta kodu, oda sayısı, banyo sayısı, arsa büyüklüğü, faiz oranı, emlak vergisi oranı, inşaat maliyetleri, çevredeki satılık ev sayısı gibi faktörler.         | Evin satış fiyatı.         |\n",
    "| Gelecekteki Yolculuk Süresi | Geçmiş trafik verileri, mesafe, hava durumu, araç çağırma uygulamaları gibi faktörler.                                                                                     | Yolculuk süresi (dakika ve saniye). |"
   ]
  },
  {
   "cell_type": "markdown",
   "id": "544d7003-abe7-4478-91af-794e424126b9",
   "metadata": {},
   "source": [
    "<font size=\"4\" style=\"padding: 10px; font-family: Arial, sans-serif; line-height: 1.6; display: block; margin-bottom: 15px; text-align: justify;\">\n",
    "    <h3 style=\"font-family: Arial, sans-serif; margin-bottom: 10px;\">Kullanım Alanları:</h3>\n",
    "    <ul>\n",
    "        <li><strong>Spam sınıflandırması:</strong> E-postaların spam olup olmadığının belirlenmesi.</li>\n",
    "        <li><strong>Tıbbi görüntü analizi:</strong> Tümörlerin <strong>malign (kötü huylu)</strong> veya <strong>benign (iyi huylu)</strong> olarak sınıflandırılması.</li>\n",
    "        <li><strong>Dil çevirisi:</strong> Farklı dillerdeki metinlerin doğru bir şekilde çevrilmesi.</li>\n",
    "    </ul>\n",
    "    <h3 style=\"font-family: Arial, sans-serif; margin-bottom: 10px;\">Algoritmalar:</h3>\n",
    "    <p>Denetimli öğrenme, çeşitli algoritmalarla uygulanabilir. Bu algoritmalar arasında şunlar bulunur:</p>\n",
    "    <ul>\n",
    "        <li><strong>Sinir ağları</strong> (Neural Networks)</li>\n",
    "        <li><strong>Naive Bayes</strong></li>\n",
    "        <li><strong>Lojistik regresyon</strong> (Logistic Regression)</li>\n",
    "        <li><strong>Destek vektör makineleri</strong> (SVM)</li>\n",
    "        <li><strong>Karar ağaçları</strong> (Decision Trees)</li>\n",
    "    </ul>\n",
    "    <p>Denetimli öğrenme, genellikle <strong>sınıflandırma</strong> ve <strong>regresyon</strong> problemleri için uygundur.</p>\n",
    "</font>"
   ]
  },
  {
   "cell_type": "markdown",
   "id": "d4869c81-a976-42f5-9b3c-c84ebd97460f",
   "metadata": {},
   "source": [
    "<font size=\"4\" style=\"padding: 10px; font-family: Arial, sans-serif; line-height: 1.6; display: block; margin-bottom: 15px; text-align: justify;\">\n",
    "    <h2 style=\"font-family: Arial, sans-serif; margin-bottom: 10px;\">1.2.2 Denetimsiz Öğrenme (Unsupervised Learning)</h2>\n",
    "    <p><strong>Denetimsiz öğrenme</strong>, etiketlenmemiş verilerle çalışır. Bu yöntemde, model verilerdeki gizli yapıları keşfetmek için kullanılır. Etiketlerin olmadığı durumlarda, model verileri <strong>gruplandırır</strong> veya veri kümesindeki <strong>benzerlikleri</strong> ve <strong>farklılıkları</strong> belirler.</p>\n",
    "    Aşağıdaki şekillerde kümeleme işlemiyle elde edilen gruplar gösterilmektedir:\n",
    "</font>"
   ]
  },
  {
   "cell_type": "markdown",
   "id": "54676e7a-cf0f-4db9-afb3-a535d9aaa791",
   "metadata": {},
   "source": [
    "<img src=\"Image/image-clustering-picture1.png\" alt=\"Resim açıklaması\" style=\"width: 100%; height: auto; object-fit: cover; display: block;\">"
   ]
  },
  {
   "cell_type": "markdown",
   "id": "1ad152fe-7fa6-426e-b932-11ba71a78691",
   "metadata": {},
   "source": [
    "<font size=\"4\" style=\"padding: 10px; font-family: Arial, sans-serif; line-height: 1.6; display: block; margin-bottom: 15px; text-align: justify;\">\n",
    "    <p><strong>Kümeleme</strong>, <strong>sınıflandırma</strong> yönteminden farklıdır. <strong>Sınıflandırma</strong>, etiketli verilerle çalışırken, <strong>kümeleme</strong> etiksiz verilerle <strong>benzerlikler</strong> üzerinden gruplar oluşturur.</p>\n",
    "    <p>Örneğin, bir model hava durumu verilerini kullanarak farklı mevsimleri tanımlayan gruplar oluşturabilir. Bu sayede, hava durumu verisindeki genel eğilimleri ve desenleri anlamak mümkün olur. Aşağıdaki şekilde hava durumu verilerinin <strong>kümeleme süreci</strong> gösterilmektedir:</p>\n",
    "</font>"
   ]
  },
  {
   "cell_type": "markdown",
   "id": "6c05feb0-6dcc-4a9d-aabf-4993c4087695",
   "metadata": {},
   "source": [
    "<img src=\"Image/image-clustering-picture2.png\" alt=\"Resim açıklaması\" style=\"width: 100%; height: auto; object-fit: cover; display: block;\">"
   ]
  },
  {
   "cell_type": "markdown",
   "id": "853fc326-54dd-4df2-a26a-47848e307f7e",
   "metadata": {},
   "source": [
    "<font size=\"4\" style=\"padding: 10px; font-family: Arial, sans-serif; line-height: 1.6; display: block; margin-bottom: 15px; text-align: justify;\">\n",
    "    <h4 style=\"font-family: Arial, sans-serif; margin-bottom: 10px;\">Kullanım Alanları:</h4>\n",
    "    <ul>\n",
    "        <li><strong>Müşteri segmentasyonu:</strong> E-ticaret sitelerinde müşterileri benzer alışveriş davranışlarına göre gruplama.</li>\n",
    "        <li><strong>Anomali tespiti:</strong> Farklı ve olağan dışı veri noktalarının tespiti, örneğin dolandırıcılık tespiti.</li>\n",
    "        <li><strong>Boyut indirgeme:</strong> Verilerin daha az özellik ile temsil edilmesi ve önemli bilgilerin çıkarılması.</li>\n",
    "    </ul>\n",
    "    <h4 style=\"font-family: Arial, sans-serif; margin-bottom: 10px;\">Algoritmalar:</h4>\n",
    "    <p>Denetimsiz öğrenmede kullanılan bazı popüler algoritmalar şunlardır:</p>\n",
    "    <ul>\n",
    "        <li><strong>K-means kümeleme</strong></li>\n",
    "        <li><strong>Hiyerarşik kümeleme</strong></li>\n",
    "        <li><strong>Olasılıksal kümelenme yöntemleri</strong></li>\n",
    "        <li><strong>Principal Component Analysis (PCA)</strong></li>\n",
    "    </ul>\n",
    "    <p>Denetimsiz öğrenme, <strong>keşifsel veri analizi</strong> (exploratory data analysis) ve <strong>gizli desenlerin keşfi</strong> için oldukça etkilidir.</p>\n",
    "</font>"
   ]
  },
  {
   "cell_type": "markdown",
   "id": "af744225-28ad-4c05-99b0-60ecce2f9ab5",
   "metadata": {},
   "source": [
    "<font size=\"4\" style=\"padding: 10px; font-family: Arial, sans-serif; line-height: 1.6; display: block; margin-bottom: 15px; text-align: justify;\">\n",
    "    <h2 style=\"font-family: Arial, sans-serif; margin-bottom: 10px;\">1.2.3 Pekiştirmeli Öğrenme (Reinforcement Learning)</h2>\n",
    "    <p><strong>Pekiştirmeli öğrenme</strong>, denetimli öğrenmeye benzer bir yaklaşım sunar, ancak burada algoritma etiketli veriyle değil, çevreyle etkileşimde bulunarak öğrenir. Model, bir dizi eylem gerçekleştirir ve bu eylemler sonucunda ödüller alır. Pekiştirmeli öğrenme, ödülleri maksimize etmek için doğru stratejileri öğrenmeye dayalı bir süreçtir.</p>\n",
    "    <h4 style=\"font-family: Arial, sans-serif; margin-bottom: 10px;\">Çalışma Prensibi:</h4>\n",
    "    <ul>\n",
    "        <li><strong>Ajan</strong>, çevresiyle etkileşime girer ve her eylemden sonra bir ödül veya ceza alır.</li>\n",
    "        <li><strong>Ajan</strong>, zamanla ödülleri artıracak şekilde eylemlerini öğrenir ve optimize eder.</li>\n",
    "    </ul>\n",
    "    <h4 style=\"font-family: Arial, sans-serif; margin-bottom: 10px;\">Kullanım Alanları:</h4>\n",
    "    <ul>\n",
    "        <li><strong>Oyunlar:</strong> Satranç veya Go gibi oyunlarda ajanın strateji geliştirmesi.</li>\n",
    "        <li><strong>Endüstriyel kontrol:</strong> Soğutma sistemlerinin veya enerji verimliliğinin otomatik yönetimi.</li>\n",
    "        <li><strong>Robotik:</strong> Robotların çevreyi keşfederek belirli görevleri yerine getirmesi.</li>\n",
    "    </ul>\n",
    "    <p><strong>Pekiştirmeli öğrenme</strong>, genellikle <strong>Q-learning</strong> ve <strong>Deep Q-Networks (DQN)</strong> gibi algoritmalarla uygulanır.</p>\n",
    "</font>"
   ]
  },
  {
   "cell_type": "markdown",
   "id": "8193adcd-a6ef-41c3-95e5-d1774b108435",
   "metadata": {},
   "source": [
    "<font size=\"4\" style=\"padding: 10px; font-family: Arial, sans-serif; line-height: 1.6; display: block; margin-bottom: 15px; text-align: justify;\">\n",
    "    <h3 style=\"font-family: Arial, sans-serif; margin-bottom: 10px;\">Yapay Zeka, Makine Öğrenimi ve Derin Öğrenme: Tanımlar, Farklar ve İlişkiler</h3>\n",
    "    <p><strong>Yapay Zeka</strong>, <strong>Makine Öğrenimi</strong> ve <strong>Derin Öğrenme</strong>, birbirini tamamlayan ancak farklı odaklara sahip üç önemli teknoloji alanıdır. Her biri, insan benzeri zekâ oluşturma ve karmaşık problemleri çözme amacı güder, ancak yaklaşım ve kullanım alanları farklıdır. İşte bu üç alanın ne olduğunu daha net bir şekilde açıklayalım:</p>\n",
    "</font>"
   ]
  },
  {
   "cell_type": "markdown",
   "id": "d4fc3fbe-6927-4bad-8099-0ff53c8a9aff",
   "metadata": {},
   "source": [
    "<img src=\"Image/image-deeplearning-picture1.jpg\" alt=\"Resim açıklaması\" style=\"width: 100%; height: auto; object-fit: cover; display: block;\">"
   ]
  },
  {
   "cell_type": "markdown",
   "id": "79d3ce83-0658-4a29-83c2-144b565c78c3",
   "metadata": {},
   "source": [
    "<font size=\"4\" style=\"padding: 10px; font-family: Arial, sans-serif; line-height: 1.6; display: block; margin-bottom: 15px; text-align: justify;\">\n",
    "    <h3 style=\"font-family: Arial, sans-serif; margin-bottom: 10px;\">Yapay Zeka (AI)</h3>\n",
    "    <p><strong>Yapay Zeka</strong>, insan benzeri zekâya sahip sistemlerin geliştirilmesiyle ilgilidir. <strong>AI</strong>, makinelerin insan gibi düşünmesini, problem çözmesini, öğrenmesini ve kararlar almasını sağlayacak algoritmalar ve yöntemler üzerine odaklanır. Temel amacı, makineleri insan zekâsına benzer şekilde çalışabilen sistemler hâline getirmektir.</p>\n",
    "    <h3 style=\"font-family: Arial, sans-serif; margin-bottom: 10px;\">Makine Öğrenimi (ML)</h3>\n",
    "    <p><strong>Makine Öğrenimi</strong>, <strong>Yapay Zeka</strong>'nın bir alt dalıdır ve bilgisayarların deneyimlerden öğrenmesini sağlayan algoritmaları kapsar. Burada amaç, makinelerin verilerle çalışarak otomatik olarak gelişmesi ve kararlar almasıdır. <strong>ML</strong>, veriye dayalı çözümler geliştirmeye odaklanır ve veri üzerinden desenler ve ilişkiler öğrenir. Yani, makineler belirli bir görevi insan müdahalesi olmadan daha iyi yapmak için verilerden öğrenir.</p>\n",
    "    <h3 style=\"font-family: Arial, sans-serif; margin-bottom: 10px;\">Derin Öğrenme (DL)</h3>\n",
    "    <p><strong>Derin Öğrenme</strong>, <strong>Makine Öğrenimi</strong>'nin bir alt dalıdır ve insan beyninin yapısını taklit eden çok katmanlı yapay sinir ağlarını kullanır. Bu yöntem, büyük ve karmaşık verilerden yüksek seviyede özellikleri öğrenmek için kullanılır. <strong>Derin Öğrenme</strong>, görsel tanıma ve doğal dil işleme gibi alanlarda devrim niteliğinde başarılar elde etmiştir ve büyük veri ile çalışırken en etkili yaklaşım olarak öne çıkar.</p>\n",
    "</font>"
   ]
  }
 ],
 "metadata": {
  "kernelspec": {
   "display_name": "Python 3 (ipykernel)",
   "language": "python",
   "name": "python3"
  },
  "language_info": {
   "codemirror_mode": {
    "name": "ipython",
    "version": 3
   },
   "file_extension": ".py",
   "mimetype": "text/x-python",
   "name": "python",
   "nbconvert_exporter": "python",
   "pygments_lexer": "ipython3",
   "version": "3.9.20"
  }
 },
 "nbformat": 4,
 "nbformat_minor": 5
}
